{
 "cells": [
  {
   "cell_type": "markdown",
   "id": "cbe93915",
   "metadata": {},
   "source": [
    "# Data Cleaning"
   ]
  },
  {
   "cell_type": "code",
   "execution_count": 66,
   "id": "9c7df4a3",
   "metadata": {},
   "outputs": [],
   "source": [
    "# import packages\n",
    "\n",
    "import warnings\n",
    "warnings.filterwarnings('ignore')\n",
    "import numpy as np\n",
    "import pandas as pd\n",
    "import seaborn as sns\n",
    "import matplotlib.pyplot as plt\n",
    "import statsmodels.api as sm\n",
    "import sqlite3"
   ]
  },
  {
   "cell_type": "markdown",
   "id": "6a9ff12d",
   "metadata": {},
   "source": [
    "### 1 - Bikes Dataframe"
   ]
  },
  {
   "cell_type": "code",
   "execution_count": 2,
   "id": "f23216d8",
   "metadata": {},
   "outputs": [
    {
     "data": {
      "text/html": [
       "<div>\n",
       "<style scoped>\n",
       "    .dataframe tbody tr th:only-of-type {\n",
       "        vertical-align: middle;\n",
       "    }\n",
       "\n",
       "    .dataframe tbody tr th {\n",
       "        vertical-align: top;\n",
       "    }\n",
       "\n",
       "    .dataframe thead th {\n",
       "        text-align: right;\n",
       "    }\n",
       "</style>\n",
       "<table border=\"1\" class=\"dataframe\">\n",
       "  <thead>\n",
       "    <tr style=\"text-align: right;\">\n",
       "      <th></th>\n",
       "      <th>id</th>\n",
       "      <th>empty_slots</th>\n",
       "      <th>free_bikes</th>\n",
       "      <th>latitude</th>\n",
       "      <th>longitude</th>\n",
       "    </tr>\n",
       "  </thead>\n",
       "  <tbody>\n",
       "    <tr>\n",
       "      <th>0</th>\n",
       "      <td>0</td>\n",
       "      <td>24</td>\n",
       "      <td>12</td>\n",
       "      <td>49.262487</td>\n",
       "      <td>-123.114397</td>\n",
       "    </tr>\n",
       "    <tr>\n",
       "      <th>1</th>\n",
       "      <td>1</td>\n",
       "      <td>11</td>\n",
       "      <td>5</td>\n",
       "      <td>49.274566</td>\n",
       "      <td>-123.121817</td>\n",
       "    </tr>\n",
       "    <tr>\n",
       "      <th>2</th>\n",
       "      <td>2</td>\n",
       "      <td>5</td>\n",
       "      <td>20</td>\n",
       "      <td>49.279764</td>\n",
       "      <td>-123.110154</td>\n",
       "    </tr>\n",
       "    <tr>\n",
       "      <th>3</th>\n",
       "      <td>3</td>\n",
       "      <td>15</td>\n",
       "      <td>1</td>\n",
       "      <td>49.260599</td>\n",
       "      <td>-123.113504</td>\n",
       "    </tr>\n",
       "    <tr>\n",
       "      <th>4</th>\n",
       "      <td>4</td>\n",
       "      <td>10</td>\n",
       "      <td>6</td>\n",
       "      <td>49.264215</td>\n",
       "      <td>-123.117772</td>\n",
       "    </tr>\n",
       "  </tbody>\n",
       "</table>\n",
       "</div>"
      ],
      "text/plain": [
       "   id  empty_slots  free_bikes   latitude   longitude\n",
       "0   0           24          12  49.262487 -123.114397\n",
       "1   1           11           5  49.274566 -123.121817\n",
       "2   2            5          20  49.279764 -123.110154\n",
       "3   3           15           1  49.260599 -123.113504\n",
       "4   4           10           6  49.264215 -123.117772"
      ]
     },
     "execution_count": 2,
     "metadata": {},
     "output_type": "execute_result"
    }
   ],
   "source": [
    "df_bikes = pd.read_csv('bikes.csv')\n",
    "df_bikes.head()"
   ]
  },
  {
   "cell_type": "code",
   "execution_count": 3,
   "id": "21d2d004",
   "metadata": {},
   "outputs": [
    {
     "data": {
      "text/html": [
       "<div>\n",
       "<style scoped>\n",
       "    .dataframe tbody tr th:only-of-type {\n",
       "        vertical-align: middle;\n",
       "    }\n",
       "\n",
       "    .dataframe tbody tr th {\n",
       "        vertical-align: top;\n",
       "    }\n",
       "\n",
       "    .dataframe thead th {\n",
       "        text-align: right;\n",
       "    }\n",
       "</style>\n",
       "<table border=\"1\" class=\"dataframe\">\n",
       "  <thead>\n",
       "    <tr style=\"text-align: right;\">\n",
       "      <th></th>\n",
       "      <th>id</th>\n",
       "      <th>free_bikes</th>\n",
       "    </tr>\n",
       "  </thead>\n",
       "  <tbody>\n",
       "    <tr>\n",
       "      <th>0</th>\n",
       "      <td>0</td>\n",
       "      <td>12</td>\n",
       "    </tr>\n",
       "    <tr>\n",
       "      <th>1</th>\n",
       "      <td>1</td>\n",
       "      <td>5</td>\n",
       "    </tr>\n",
       "    <tr>\n",
       "      <th>2</th>\n",
       "      <td>2</td>\n",
       "      <td>20</td>\n",
       "    </tr>\n",
       "    <tr>\n",
       "      <th>3</th>\n",
       "      <td>3</td>\n",
       "      <td>1</td>\n",
       "    </tr>\n",
       "    <tr>\n",
       "      <th>4</th>\n",
       "      <td>4</td>\n",
       "      <td>6</td>\n",
       "    </tr>\n",
       "  </tbody>\n",
       "</table>\n",
       "</div>"
      ],
      "text/plain": [
       "   id  free_bikes\n",
       "0   0          12\n",
       "1   1           5\n",
       "2   2          20\n",
       "3   3           1\n",
       "4   4           6"
      ]
     },
     "execution_count": 3,
     "metadata": {},
     "output_type": "execute_result"
    }
   ],
   "source": [
    "# I won't be using latitude, longitude, and empty_slots columns anymore:\n",
    "\n",
    "columns_to_keep = ['id', 'free_bikes']\n",
    "\n",
    "df_bikes = df_bikes[columns_to_keep]\n",
    "\n",
    "df_bikes.head()"
   ]
  },
  {
   "cell_type": "code",
   "execution_count": 4,
   "id": "0b5d4eb4",
   "metadata": {},
   "outputs": [
    {
     "data": {
      "text/html": [
       "<div>\n",
       "<style scoped>\n",
       "    .dataframe tbody tr th:only-of-type {\n",
       "        vertical-align: middle;\n",
       "    }\n",
       "\n",
       "    .dataframe tbody tr th {\n",
       "        vertical-align: top;\n",
       "    }\n",
       "\n",
       "    .dataframe thead th {\n",
       "        text-align: right;\n",
       "    }\n",
       "</style>\n",
       "<table border=\"1\" class=\"dataframe\">\n",
       "  <thead>\n",
       "    <tr style=\"text-align: right;\">\n",
       "      <th></th>\n",
       "      <th>id</th>\n",
       "      <th>free_bikes</th>\n",
       "    </tr>\n",
       "  </thead>\n",
       "  <tbody>\n",
       "    <tr>\n",
       "      <th>count</th>\n",
       "      <td>244.000000</td>\n",
       "      <td>244.000000</td>\n",
       "    </tr>\n",
       "    <tr>\n",
       "      <th>mean</th>\n",
       "      <td>121.500000</td>\n",
       "      <td>9.176230</td>\n",
       "    </tr>\n",
       "    <tr>\n",
       "      <th>std</th>\n",
       "      <td>70.580923</td>\n",
       "      <td>5.366955</td>\n",
       "    </tr>\n",
       "    <tr>\n",
       "      <th>min</th>\n",
       "      <td>0.000000</td>\n",
       "      <td>0.000000</td>\n",
       "    </tr>\n",
       "    <tr>\n",
       "      <th>25%</th>\n",
       "      <td>60.750000</td>\n",
       "      <td>5.000000</td>\n",
       "    </tr>\n",
       "    <tr>\n",
       "      <th>50%</th>\n",
       "      <td>121.500000</td>\n",
       "      <td>9.000000</td>\n",
       "    </tr>\n",
       "    <tr>\n",
       "      <th>75%</th>\n",
       "      <td>182.250000</td>\n",
       "      <td>12.250000</td>\n",
       "    </tr>\n",
       "    <tr>\n",
       "      <th>max</th>\n",
       "      <td>243.000000</td>\n",
       "      <td>28.000000</td>\n",
       "    </tr>\n",
       "  </tbody>\n",
       "</table>\n",
       "</div>"
      ],
      "text/plain": [
       "               id  free_bikes\n",
       "count  244.000000  244.000000\n",
       "mean   121.500000    9.176230\n",
       "std     70.580923    5.366955\n",
       "min      0.000000    0.000000\n",
       "25%     60.750000    5.000000\n",
       "50%    121.500000    9.000000\n",
       "75%    182.250000   12.250000\n",
       "max    243.000000   28.000000"
      ]
     },
     "execution_count": 4,
     "metadata": {},
     "output_type": "execute_result"
    }
   ],
   "source": [
    "df_bikes.describe()"
   ]
  },
  {
   "cell_type": "code",
   "execution_count": 5,
   "id": "e68531c6",
   "metadata": {},
   "outputs": [
    {
     "data": {
      "image/png": "[encoded data removed]",
      "text/plain": [
       "<Figure size 640x480 with 1 Axes>"
      ]
     },
     "metadata": {},
     "output_type": "display_data"
    }
   ],
   "source": [
    "sns.boxplot(df_bikes['free_bikes'])\n",
    "\n",
    "plt.show()"
   ]
  },
  {
   "cell_type": "code",
   "execution_count": 6,
   "id": "ea9e8856",
   "metadata": {
    "scrolled": false
   },
   "outputs": [
    {
     "data": {
      "text/html": [
       "<div>\n",
       "<style scoped>\n",
       "    .dataframe tbody tr th:only-of-type {\n",
       "        vertical-align: middle;\n",
       "    }\n",
       "\n",
       "    .dataframe tbody tr th {\n",
       "        vertical-align: top;\n",
       "    }\n",
       "\n",
       "    .dataframe thead th {\n",
       "        text-align: right;\n",
       "    }\n",
       "</style>\n",
       "<table border=\"1\" class=\"dataframe\">\n",
       "  <thead>\n",
       "    <tr style=\"text-align: right;\">\n",
       "      <th></th>\n",
       "      <th>id</th>\n",
       "      <th>free_bikes</th>\n",
       "    </tr>\n",
       "  </thead>\n",
       "  <tbody>\n",
       "    <tr>\n",
       "      <th>206</th>\n",
       "      <td>206</td>\n",
       "      <td>28</td>\n",
       "    </tr>\n",
       "    <tr>\n",
       "      <th>59</th>\n",
       "      <td>59</td>\n",
       "      <td>25</td>\n",
       "    </tr>\n",
       "    <tr>\n",
       "      <th>27</th>\n",
       "      <td>27</td>\n",
       "      <td>24</td>\n",
       "    </tr>\n",
       "    <tr>\n",
       "      <th>148</th>\n",
       "      <td>148</td>\n",
       "      <td>23</td>\n",
       "    </tr>\n",
       "    <tr>\n",
       "      <th>88</th>\n",
       "      <td>88</td>\n",
       "      <td>22</td>\n",
       "    </tr>\n",
       "    <tr>\n",
       "      <th>...</th>\n",
       "      <td>...</td>\n",
       "      <td>...</td>\n",
       "    </tr>\n",
       "    <tr>\n",
       "      <th>113</th>\n",
       "      <td>113</td>\n",
       "      <td>0</td>\n",
       "    </tr>\n",
       "    <tr>\n",
       "      <th>159</th>\n",
       "      <td>159</td>\n",
       "      <td>0</td>\n",
       "    </tr>\n",
       "    <tr>\n",
       "      <th>15</th>\n",
       "      <td>15</td>\n",
       "      <td>0</td>\n",
       "    </tr>\n",
       "    <tr>\n",
       "      <th>9</th>\n",
       "      <td>9</td>\n",
       "      <td>0</td>\n",
       "    </tr>\n",
       "    <tr>\n",
       "      <th>230</th>\n",
       "      <td>230</td>\n",
       "      <td>0</td>\n",
       "    </tr>\n",
       "  </tbody>\n",
       "</table>\n",
       "<p>244 rows × 2 columns</p>\n",
       "</div>"
      ],
      "text/plain": [
       "      id  free_bikes\n",
       "206  206          28\n",
       "59    59          25\n",
       "27    27          24\n",
       "148  148          23\n",
       "88    88          22\n",
       "..   ...         ...\n",
       "113  113           0\n",
       "159  159           0\n",
       "15    15           0\n",
       "9      9           0\n",
       "230  230           0\n",
       "\n",
       "[244 rows x 2 columns]"
      ]
     },
     "execution_count": 6,
     "metadata": {},
     "output_type": "execute_result"
    }
   ],
   "source": [
    "# There are 3 datapoints outside of the upper bound, I'll check their values:\n",
    "\n",
    "df_bikes.sort_values(by='free_bikes', ascending=False)"
   ]
  },
  {
   "cell_type": "markdown",
   "id": "c0d63f6e",
   "metadata": {},
   "source": [
    "In my opinion they don't look abnormal and the dataset of bike stations contains only 243 rows. I won't remove them."
   ]
  },
  {
   "cell_type": "code",
   "execution_count": 7,
   "id": "0b63385e",
   "metadata": {},
   "outputs": [
    {
     "data": {
      "text/plain": [
       "0"
      ]
     },
     "execution_count": 7,
     "metadata": {},
     "output_type": "execute_result"
    }
   ],
   "source": [
    "# Check for NaNs:\n",
    "\n",
    "df_bikes['free_bikes'].isnull().sum()"
   ]
  },
  {
   "cell_type": "markdown",
   "id": "80251d75",
   "metadata": {},
   "source": [
    "### 2 - Yelp Dataframe"
   ]
  },
  {
   "cell_type": "code",
   "execution_count": 8,
   "id": "9ad9b338",
   "metadata": {},
   "outputs": [
    {
     "data": {
      "text/html": [
       "<div>\n",
       "<style scoped>\n",
       "    .dataframe tbody tr th:only-of-type {\n",
       "        vertical-align: middle;\n",
       "    }\n",
       "\n",
       "    .dataframe tbody tr th {\n",
       "        vertical-align: top;\n",
       "    }\n",
       "\n",
       "    .dataframe thead th {\n",
       "        text-align: right;\n",
       "    }\n",
       "</style>\n",
       "<table border=\"1\" class=\"dataframe\">\n",
       "  <thead>\n",
       "    <tr style=\"text-align: right;\">\n",
       "      <th></th>\n",
       "      <th>id</th>\n",
       "      <th>bikes_id</th>\n",
       "      <th>review_count</th>\n",
       "      <th>rating</th>\n",
       "      <th>price</th>\n",
       "      <th>distance</th>\n",
       "    </tr>\n",
       "  </thead>\n",
       "  <tbody>\n",
       "    <tr>\n",
       "      <th>0</th>\n",
       "      <td>6iOAgzJ0DRZNSKA3FSrrOg</td>\n",
       "      <td>0</td>\n",
       "      <td>685</td>\n",
       "      <td>4.0</td>\n",
       "      <td>$$</td>\n",
       "      <td>169.517456</td>\n",
       "    </tr>\n",
       "    <tr>\n",
       "      <th>1</th>\n",
       "      <td>XAH2HpuUUtu7CUO26pbs4w</td>\n",
       "      <td>0</td>\n",
       "      <td>234</td>\n",
       "      <td>4.5</td>\n",
       "      <td>$$</td>\n",
       "      <td>178.845344</td>\n",
       "    </tr>\n",
       "    <tr>\n",
       "      <th>2</th>\n",
       "      <td>NensKn1MSVU_rm-1Y6WlFA</td>\n",
       "      <td>0</td>\n",
       "      <td>289</td>\n",
       "      <td>4.0</td>\n",
       "      <td>$$</td>\n",
       "      <td>102.329817</td>\n",
       "    </tr>\n",
       "    <tr>\n",
       "      <th>3</th>\n",
       "      <td>4118Aq9LbkvUr4s719uUkA</td>\n",
       "      <td>0</td>\n",
       "      <td>117</td>\n",
       "      <td>4.5</td>\n",
       "      <td>$$$</td>\n",
       "      <td>152.157897</td>\n",
       "    </tr>\n",
       "    <tr>\n",
       "      <th>4</th>\n",
       "      <td>F5wxgIiZE7LYQxgqhI483A</td>\n",
       "      <td>0</td>\n",
       "      <td>32</td>\n",
       "      <td>4.5</td>\n",
       "      <td>NaN</td>\n",
       "      <td>168.615262</td>\n",
       "    </tr>\n",
       "  </tbody>\n",
       "</table>\n",
       "</div>"
      ],
      "text/plain": [
       "                       id  bikes_id  review_count  rating price    distance\n",
       "0  6iOAgzJ0DRZNSKA3FSrrOg         0           685     4.0    $$  169.517456\n",
       "1  XAH2HpuUUtu7CUO26pbs4w         0           234     4.5    $$  178.845344\n",
       "2  NensKn1MSVU_rm-1Y6WlFA         0           289     4.0    $$  102.329817\n",
       "3  4118Aq9LbkvUr4s719uUkA         0           117     4.5   $$$  152.157897\n",
       "4  F5wxgIiZE7LYQxgqhI483A         0            32     4.5   NaN  168.615262"
      ]
     },
     "execution_count": 8,
     "metadata": {},
     "output_type": "execute_result"
    }
   ],
   "source": [
    "df_yelp = pd.read_csv('yelp.csv')\n",
    "df_yelp.head()"
   ]
  },
  {
   "cell_type": "code",
   "execution_count": 9,
   "id": "66cd9caf",
   "metadata": {},
   "outputs": [
    {
     "data": {
      "text/html": [
       "<div>\n",
       "<style scoped>\n",
       "    .dataframe tbody tr th:only-of-type {\n",
       "        vertical-align: middle;\n",
       "    }\n",
       "\n",
       "    .dataframe tbody tr th {\n",
       "        vertical-align: top;\n",
       "    }\n",
       "\n",
       "    .dataframe thead th {\n",
       "        text-align: right;\n",
       "    }\n",
       "</style>\n",
       "<table border=\"1\" class=\"dataframe\">\n",
       "  <thead>\n",
       "    <tr style=\"text-align: right;\">\n",
       "      <th></th>\n",
       "      <th>bikes_id</th>\n",
       "      <th>review_count</th>\n",
       "      <th>rating</th>\n",
       "      <th>distance</th>\n",
       "    </tr>\n",
       "  </thead>\n",
       "  <tbody>\n",
       "    <tr>\n",
       "      <th>count</th>\n",
       "      <td>97002.000000</td>\n",
       "      <td>97002.000000</td>\n",
       "      <td>97002.000000</td>\n",
       "      <td>97002.000000</td>\n",
       "    </tr>\n",
       "    <tr>\n",
       "      <th>mean</th>\n",
       "      <td>121.143925</td>\n",
       "      <td>338.029123</td>\n",
       "      <td>4.091735</td>\n",
       "      <td>485.195352</td>\n",
       "    </tr>\n",
       "    <tr>\n",
       "      <th>std</th>\n",
       "      <td>70.457828</td>\n",
       "      <td>373.845846</td>\n",
       "      <td>0.400699</td>\n",
       "      <td>332.704452</td>\n",
       "    </tr>\n",
       "    <tr>\n",
       "      <th>min</th>\n",
       "      <td>0.000000</td>\n",
       "      <td>1.000000</td>\n",
       "      <td>1.500000</td>\n",
       "      <td>1.973312</td>\n",
       "    </tr>\n",
       "    <tr>\n",
       "      <th>25%</th>\n",
       "      <td>60.000000</td>\n",
       "      <td>102.000000</td>\n",
       "      <td>4.000000</td>\n",
       "      <td>228.021839</td>\n",
       "    </tr>\n",
       "    <tr>\n",
       "      <th>50%</th>\n",
       "      <td>121.000000</td>\n",
       "      <td>212.000000</td>\n",
       "      <td>4.000000</td>\n",
       "      <td>389.438120</td>\n",
       "    </tr>\n",
       "    <tr>\n",
       "      <th>75%</th>\n",
       "      <td>182.000000</td>\n",
       "      <td>445.000000</td>\n",
       "      <td>4.500000</td>\n",
       "      <td>728.569790</td>\n",
       "    </tr>\n",
       "    <tr>\n",
       "      <th>max</th>\n",
       "      <td>243.000000</td>\n",
       "      <td>2608.000000</td>\n",
       "      <td>5.000000</td>\n",
       "      <td>5607.529573</td>\n",
       "    </tr>\n",
       "  </tbody>\n",
       "</table>\n",
       "</div>"
      ],
      "text/plain": [
       "           bikes_id  review_count        rating      distance\n",
       "count  97002.000000  97002.000000  97002.000000  97002.000000\n",
       "mean     121.143925    338.029123      4.091735    485.195352\n",
       "std       70.457828    373.845846      0.400699    332.704452\n",
       "min        0.000000      1.000000      1.500000      1.973312\n",
       "25%       60.000000    102.000000      4.000000    228.021839\n",
       "50%      121.000000    212.000000      4.000000    389.438120\n",
       "75%      182.000000    445.000000      4.500000    728.569790\n",
       "max      243.000000   2608.000000      5.000000   5607.529573"
      ]
     },
     "execution_count": 9,
     "metadata": {},
     "output_type": "execute_result"
    }
   ],
   "source": [
    "df_yelp.describe()"
   ]
  },
  {
   "cell_type": "code",
   "execution_count": 10,
   "id": "4ea7ad8c",
   "metadata": {},
   "outputs": [
    {
     "data": {
      "image/png": "[encoded data removed]",
      "text/plain": [
       "<Figure size 640x480 with 1 Axes>"
      ]
     },
     "metadata": {},
     "output_type": "display_data"
    }
   ],
   "source": [
    "sns.boxplot(df_yelp['distance'])\n",
    "\n",
    "plt.show()"
   ]
  },
  {
   "cell_type": "code",
   "execution_count": 11,
   "id": "42f4b65b",
   "metadata": {},
   "outputs": [],
   "source": [
    "# Will remove the datapoints which 'distance' is over 1000(m):\n",
    "\n",
    "df_yelp = df_yelp[df_yelp['distance'] <= 1000]"
   ]
  },
  {
   "cell_type": "code",
   "execution_count": 12,
   "id": "bf3e1349",
   "metadata": {
    "scrolled": false
   },
   "outputs": [
    {
     "data": {
      "image/png": "[encoded data removed]",
      "text/plain": [
       "<Figure size 640x480 with 1 Axes>"
      ]
     },
     "metadata": {},
     "output_type": "display_data"
    }
   ],
   "source": [
    "# Now it'll look better:\n",
    "\n",
    "sns.boxplot(df_yelp['distance'])\n",
    "\n",
    "plt.show()"
   ]
  },
  {
   "cell_type": "markdown",
   "id": "659d0314",
   "metadata": {},
   "source": [
    "\"Review_count\" could be another column with potential outliers. However, it's very likely that those businesses pay for reviews, so I'll leave as is."
   ]
  },
  {
   "cell_type": "code",
   "execution_count": 13,
   "id": "2ce0683e",
   "metadata": {},
   "outputs": [
    {
     "name": "stdout",
     "output_type": "stream",
     "text": [
      "(89053, 6)\n"
     ]
    },
    {
     "data": {
      "text/plain": [
       "id                  0\n",
       "bikes_id            0\n",
       "review_count        0\n",
       "rating              0\n",
       "price           11042\n",
       "distance            0\n",
       "dtype: int64"
      ]
     },
     "execution_count": 13,
     "metadata": {},
     "output_type": "execute_result"
    }
   ],
   "source": [
    "print(df_yelp.shape)\n",
    "df_yelp.isnull().sum()"
   ]
  },
  {
   "cell_type": "code",
   "execution_count": 14,
   "id": "126af7c1",
   "metadata": {},
   "outputs": [],
   "source": [
    "# There are many NaN values in the 'price' column. I will still have over 85,000 rows of data to work with.\n",
    "# I will remove those NaN rows:\n",
    "\n",
    "df_yelp.dropna(inplace=True)"
   ]
  },
  {
   "cell_type": "code",
   "execution_count": 15,
   "id": "6461a4e0",
   "metadata": {},
   "outputs": [
    {
     "data": {
      "text/plain": [
       "(78011, 6)"
      ]
     },
     "execution_count": 15,
     "metadata": {},
     "output_type": "execute_result"
    }
   ],
   "source": [
    "df_yelp.shape"
   ]
  },
  {
   "cell_type": "markdown",
   "id": "14ec56fb",
   "metadata": {},
   "source": [
    "### 3 - FourSquare Dataframe"
   ]
  },
  {
   "cell_type": "code",
   "execution_count": 16,
   "id": "36d9dc0f",
   "metadata": {},
   "outputs": [
    {
     "data": {
      "text/html": [
       "<div>\n",
       "<style scoped>\n",
       "    .dataframe tbody tr th:only-of-type {\n",
       "        vertical-align: middle;\n",
       "    }\n",
       "\n",
       "    .dataframe tbody tr th {\n",
       "        vertical-align: top;\n",
       "    }\n",
       "\n",
       "    .dataframe thead th {\n",
       "        text-align: right;\n",
       "    }\n",
       "</style>\n",
       "<table border=\"1\" class=\"dataframe\">\n",
       "  <thead>\n",
       "    <tr style=\"text-align: right;\">\n",
       "      <th></th>\n",
       "      <th>bikes_id</th>\n",
       "      <th>category_ids</th>\n",
       "    </tr>\n",
       "  </thead>\n",
       "  <tbody>\n",
       "    <tr>\n",
       "      <th>0</th>\n",
       "      <td>0</td>\n",
       "      <td>13034</td>\n",
       "    </tr>\n",
       "    <tr>\n",
       "      <th>1</th>\n",
       "      <td>0</td>\n",
       "      <td>13263</td>\n",
       "    </tr>\n",
       "    <tr>\n",
       "      <th>2</th>\n",
       "      <td>0</td>\n",
       "      <td>13306</td>\n",
       "    </tr>\n",
       "    <tr>\n",
       "      <th>3</th>\n",
       "      <td>0</td>\n",
       "      <td>17069</td>\n",
       "    </tr>\n",
       "    <tr>\n",
       "      <th>4</th>\n",
       "      <td>0</td>\n",
       "      <td>17071</td>\n",
       "    </tr>\n",
       "  </tbody>\n",
       "</table>\n",
       "</div>"
      ],
      "text/plain": [
       "   bikes_id  category_ids\n",
       "0         0         13034\n",
       "1         0         13263\n",
       "2         0         13306\n",
       "3         0         17069\n",
       "4         0         17071"
      ]
     },
     "execution_count": 16,
     "metadata": {},
     "output_type": "execute_result"
    }
   ],
   "source": [
    "df_4s = pd.read_csv('four_square.csv')\n",
    "df_4s.head()"
   ]
  },
  {
   "cell_type": "code",
   "execution_count": 17,
   "id": "c1654fb3",
   "metadata": {
    "scrolled": true
   },
   "outputs": [
    {
     "data": {
      "text/plain": [
       "bikes_id        0\n",
       "category_ids    0\n",
       "dtype: int64"
      ]
     },
     "execution_count": 17,
     "metadata": {},
     "output_type": "execute_result"
    }
   ],
   "source": [
    "df_4s.isnull().sum()"
   ]
  },
  {
   "cell_type": "markdown",
   "id": "b5f38db7",
   "metadata": {},
   "source": [
    "# ---------------------------------------------------------------------------------------------------------------"
   ]
  },
  {
   "cell_type": "markdown",
   "id": "cac331e0",
   "metadata": {},
   "source": [
    "# Data Transformation\n"
   ]
  },
  {
   "cell_type": "markdown",
   "id": "86336b35",
   "metadata": {},
   "source": [
    "### 1 - Yelp Dataframe"
   ]
  },
  {
   "cell_type": "code",
   "execution_count": 18,
   "id": "44126bf1",
   "metadata": {},
   "outputs": [
    {
     "data": {
      "text/html": [
       "<div>\n",
       "<style scoped>\n",
       "    .dataframe tbody tr th:only-of-type {\n",
       "        vertical-align: middle;\n",
       "    }\n",
       "\n",
       "    .dataframe tbody tr th {\n",
       "        vertical-align: top;\n",
       "    }\n",
       "\n",
       "    .dataframe thead th {\n",
       "        text-align: right;\n",
       "    }\n",
       "</style>\n",
       "<table border=\"1\" class=\"dataframe\">\n",
       "  <thead>\n",
       "    <tr style=\"text-align: right;\">\n",
       "      <th></th>\n",
       "      <th>bikes_id</th>\n",
       "      <th>review_count</th>\n",
       "      <th>rating</th>\n",
       "      <th>distance</th>\n",
       "      <th>price_numeric</th>\n",
       "    </tr>\n",
       "  </thead>\n",
       "  <tbody>\n",
       "    <tr>\n",
       "      <th>0</th>\n",
       "      <td>0</td>\n",
       "      <td>685</td>\n",
       "      <td>4.0</td>\n",
       "      <td>169.517456</td>\n",
       "      <td>2</td>\n",
       "    </tr>\n",
       "    <tr>\n",
       "      <th>1</th>\n",
       "      <td>0</td>\n",
       "      <td>234</td>\n",
       "      <td>4.5</td>\n",
       "      <td>178.845344</td>\n",
       "      <td>2</td>\n",
       "    </tr>\n",
       "    <tr>\n",
       "      <th>2</th>\n",
       "      <td>0</td>\n",
       "      <td>289</td>\n",
       "      <td>4.0</td>\n",
       "      <td>102.329817</td>\n",
       "      <td>2</td>\n",
       "    </tr>\n",
       "    <tr>\n",
       "      <th>3</th>\n",
       "      <td>0</td>\n",
       "      <td>117</td>\n",
       "      <td>4.5</td>\n",
       "      <td>152.157897</td>\n",
       "      <td>3</td>\n",
       "    </tr>\n",
       "    <tr>\n",
       "      <th>5</th>\n",
       "      <td>0</td>\n",
       "      <td>226</td>\n",
       "      <td>4.0</td>\n",
       "      <td>191.044234</td>\n",
       "      <td>2</td>\n",
       "    </tr>\n",
       "    <tr>\n",
       "      <th>...</th>\n",
       "      <td>...</td>\n",
       "      <td>...</td>\n",
       "      <td>...</td>\n",
       "      <td>...</td>\n",
       "      <td>...</td>\n",
       "    </tr>\n",
       "    <tr>\n",
       "      <th>96997</th>\n",
       "      <td>243</td>\n",
       "      <td>397</td>\n",
       "      <td>4.0</td>\n",
       "      <td>569.394966</td>\n",
       "      <td>2</td>\n",
       "    </tr>\n",
       "    <tr>\n",
       "      <th>96998</th>\n",
       "      <td>243</td>\n",
       "      <td>177</td>\n",
       "      <td>4.0</td>\n",
       "      <td>744.999190</td>\n",
       "      <td>2</td>\n",
       "    </tr>\n",
       "    <tr>\n",
       "      <th>96999</th>\n",
       "      <td>243</td>\n",
       "      <td>50</td>\n",
       "      <td>4.5</td>\n",
       "      <td>842.112588</td>\n",
       "      <td>1</td>\n",
       "    </tr>\n",
       "    <tr>\n",
       "      <th>97000</th>\n",
       "      <td>243</td>\n",
       "      <td>61</td>\n",
       "      <td>4.0</td>\n",
       "      <td>381.561636</td>\n",
       "      <td>2</td>\n",
       "    </tr>\n",
       "    <tr>\n",
       "      <th>97001</th>\n",
       "      <td>243</td>\n",
       "      <td>259</td>\n",
       "      <td>3.5</td>\n",
       "      <td>456.914922</td>\n",
       "      <td>2</td>\n",
       "    </tr>\n",
       "  </tbody>\n",
       "</table>\n",
       "<p>78011 rows × 5 columns</p>\n",
       "</div>"
      ],
      "text/plain": [
       "       bikes_id  review_count  rating    distance  price_numeric\n",
       "0             0           685     4.0  169.517456              2\n",
       "1             0           234     4.5  178.845344              2\n",
       "2             0           289     4.0  102.329817              2\n",
       "3             0           117     4.5  152.157897              3\n",
       "5             0           226     4.0  191.044234              2\n",
       "...         ...           ...     ...         ...            ...\n",
       "96997       243           397     4.0  569.394966              2\n",
       "96998       243           177     4.0  744.999190              2\n",
       "96999       243            50     4.5  842.112588              1\n",
       "97000       243            61     4.0  381.561636              2\n",
       "97001       243           259     3.5  456.914922              2\n",
       "\n",
       "[78011 rows x 5 columns]"
      ]
     },
     "execution_count": 18,
     "metadata": {},
     "output_type": "execute_result"
    }
   ],
   "source": [
    "# Convert the 'price' column into numeric in order to be able to get some valuable insights out of it:\n",
    "\n",
    "price_mapping = {'$': 1, '$$': 2, '$$$': 3, '$$$$':4}\n",
    "\n",
    "df_yelp['price_numeric'] = df_yelp['price'].map(price_mapping)\n",
    "\n",
    "\n",
    "# Drop the no-longer-needed 'price' column, as well with the 'id':\n",
    "\n",
    "df_yelp.drop(['id','price'], axis=1, inplace=True)\n",
    "\n",
    "df_yelp\n"
   ]
  },
  {
   "cell_type": "code",
   "execution_count": 19,
   "id": "ec295b84",
   "metadata": {
    "scrolled": false
   },
   "outputs": [
    {
     "data": {
      "text/html": [
       "<div>\n",
       "<style scoped>\n",
       "    .dataframe tbody tr th:only-of-type {\n",
       "        vertical-align: middle;\n",
       "    }\n",
       "\n",
       "    .dataframe tbody tr th {\n",
       "        vertical-align: top;\n",
       "    }\n",
       "\n",
       "    .dataframe thead th {\n",
       "        text-align: right;\n",
       "    }\n",
       "</style>\n",
       "<table border=\"1\" class=\"dataframe\">\n",
       "  <thead>\n",
       "    <tr style=\"text-align: right;\">\n",
       "      <th></th>\n",
       "      <th>index</th>\n",
       "      <th>bikes_id</th>\n",
       "      <th>review_count</th>\n",
       "      <th>rating</th>\n",
       "      <th>distance</th>\n",
       "      <th>price_numeric</th>\n",
       "    </tr>\n",
       "  </thead>\n",
       "  <tbody>\n",
       "    <tr>\n",
       "      <th>0</th>\n",
       "      <td>0</td>\n",
       "      <td>0</td>\n",
       "      <td>685</td>\n",
       "      <td>4.0</td>\n",
       "      <td>169.517456</td>\n",
       "      <td>2</td>\n",
       "    </tr>\n",
       "    <tr>\n",
       "      <th>1</th>\n",
       "      <td>1</td>\n",
       "      <td>0</td>\n",
       "      <td>234</td>\n",
       "      <td>4.5</td>\n",
       "      <td>178.845344</td>\n",
       "      <td>2</td>\n",
       "    </tr>\n",
       "    <tr>\n",
       "      <th>2</th>\n",
       "      <td>2</td>\n",
       "      <td>0</td>\n",
       "      <td>289</td>\n",
       "      <td>4.0</td>\n",
       "      <td>102.329817</td>\n",
       "      <td>2</td>\n",
       "    </tr>\n",
       "    <tr>\n",
       "      <th>3</th>\n",
       "      <td>3</td>\n",
       "      <td>0</td>\n",
       "      <td>117</td>\n",
       "      <td>4.5</td>\n",
       "      <td>152.157897</td>\n",
       "      <td>3</td>\n",
       "    </tr>\n",
       "    <tr>\n",
       "      <th>4</th>\n",
       "      <td>5</td>\n",
       "      <td>0</td>\n",
       "      <td>226</td>\n",
       "      <td>4.0</td>\n",
       "      <td>191.044234</td>\n",
       "      <td>2</td>\n",
       "    </tr>\n",
       "    <tr>\n",
       "      <th>...</th>\n",
       "      <td>...</td>\n",
       "      <td>...</td>\n",
       "      <td>...</td>\n",
       "      <td>...</td>\n",
       "      <td>...</td>\n",
       "      <td>...</td>\n",
       "    </tr>\n",
       "    <tr>\n",
       "      <th>78006</th>\n",
       "      <td>96997</td>\n",
       "      <td>243</td>\n",
       "      <td>397</td>\n",
       "      <td>4.0</td>\n",
       "      <td>569.394966</td>\n",
       "      <td>2</td>\n",
       "    </tr>\n",
       "    <tr>\n",
       "      <th>78007</th>\n",
       "      <td>96998</td>\n",
       "      <td>243</td>\n",
       "      <td>177</td>\n",
       "      <td>4.0</td>\n",
       "      <td>744.999190</td>\n",
       "      <td>2</td>\n",
       "    </tr>\n",
       "    <tr>\n",
       "      <th>78008</th>\n",
       "      <td>96999</td>\n",
       "      <td>243</td>\n",
       "      <td>50</td>\n",
       "      <td>4.5</td>\n",
       "      <td>842.112588</td>\n",
       "      <td>1</td>\n",
       "    </tr>\n",
       "    <tr>\n",
       "      <th>78009</th>\n",
       "      <td>97000</td>\n",
       "      <td>243</td>\n",
       "      <td>61</td>\n",
       "      <td>4.0</td>\n",
       "      <td>381.561636</td>\n",
       "      <td>2</td>\n",
       "    </tr>\n",
       "    <tr>\n",
       "      <th>78010</th>\n",
       "      <td>97001</td>\n",
       "      <td>243</td>\n",
       "      <td>259</td>\n",
       "      <td>3.5</td>\n",
       "      <td>456.914922</td>\n",
       "      <td>2</td>\n",
       "    </tr>\n",
       "  </tbody>\n",
       "</table>\n",
       "<p>78011 rows × 6 columns</p>\n",
       "</div>"
      ],
      "text/plain": [
       "       index  bikes_id  review_count  rating    distance  price_numeric\n",
       "0          0         0           685     4.0  169.517456              2\n",
       "1          1         0           234     4.5  178.845344              2\n",
       "2          2         0           289     4.0  102.329817              2\n",
       "3          3         0           117     4.5  152.157897              3\n",
       "4          5         0           226     4.0  191.044234              2\n",
       "...      ...       ...           ...     ...         ...            ...\n",
       "78006  96997       243           397     4.0  569.394966              2\n",
       "78007  96998       243           177     4.0  744.999190              2\n",
       "78008  96999       243            50     4.5  842.112588              1\n",
       "78009  97000       243            61     4.0  381.561636              2\n",
       "78010  97001       243           259     3.5  456.914922              2\n",
       "\n",
       "[78011 rows x 6 columns]"
      ]
     },
     "execution_count": 19,
     "metadata": {},
     "output_type": "execute_result"
    }
   ],
   "source": [
    "df_yelp.reset_index(inplace=True)\n",
    "df_yelp"
   ]
  },
  {
   "cell_type": "markdown",
   "id": "72277ec0",
   "metadata": {},
   "source": [
    "### 2 - FourSquare Dataframe"
   ]
  },
  {
   "cell_type": "code",
   "execution_count": 20,
   "id": "65da0d30",
   "metadata": {},
   "outputs": [
    {
     "data": {
      "text/html": [
       "<div>\n",
       "<style scoped>\n",
       "    .dataframe tbody tr th:only-of-type {\n",
       "        vertical-align: middle;\n",
       "    }\n",
       "\n",
       "    .dataframe tbody tr th {\n",
       "        vertical-align: top;\n",
       "    }\n",
       "\n",
       "    .dataframe thead th {\n",
       "        text-align: right;\n",
       "    }\n",
       "</style>\n",
       "<table border=\"1\" class=\"dataframe\">\n",
       "  <thead>\n",
       "    <tr style=\"text-align: right;\">\n",
       "      <th></th>\n",
       "      <th>bikes_id</th>\n",
       "      <th>category_ids</th>\n",
       "    </tr>\n",
       "  </thead>\n",
       "  <tbody>\n",
       "    <tr>\n",
       "      <th>0</th>\n",
       "      <td>0</td>\n",
       "      <td>13034</td>\n",
       "    </tr>\n",
       "    <tr>\n",
       "      <th>1</th>\n",
       "      <td>0</td>\n",
       "      <td>13263</td>\n",
       "    </tr>\n",
       "    <tr>\n",
       "      <th>2</th>\n",
       "      <td>0</td>\n",
       "      <td>13306</td>\n",
       "    </tr>\n",
       "    <tr>\n",
       "      <th>3</th>\n",
       "      <td>0</td>\n",
       "      <td>17069</td>\n",
       "    </tr>\n",
       "    <tr>\n",
       "      <th>4</th>\n",
       "      <td>0</td>\n",
       "      <td>17071</td>\n",
       "    </tr>\n",
       "  </tbody>\n",
       "</table>\n",
       "</div>"
      ],
      "text/plain": [
       "   bikes_id  category_ids\n",
       "0         0         13034\n",
       "1         0         13263\n",
       "2         0         13306\n",
       "3         0         17069\n",
       "4         0         17071"
      ]
     },
     "execution_count": 20,
     "metadata": {},
     "output_type": "execute_result"
    }
   ],
   "source": [
    "df_4s.head()"
   ]
  },
  {
   "cell_type": "markdown",
   "id": "2394bdad",
   "metadata": {},
   "source": [
    "'Category_ids' column is not saying much in this form. I pulled a CSV file from 4Square documentation where the names of each category number can be found. \n",
    "Big categories are separated by the 10,000s.\n",
    "I will split the categories into 10 groups:"
   ]
  },
  {
   "cell_type": "code",
   "execution_count": 21,
   "id": "48905834",
   "metadata": {
    "scrolled": true
   },
   "outputs": [
    {
     "data": {
      "text/html": [
       "<div>\n",
       "<style scoped>\n",
       "    .dataframe tbody tr th:only-of-type {\n",
       "        vertical-align: middle;\n",
       "    }\n",
       "\n",
       "    .dataframe tbody tr th {\n",
       "        vertical-align: top;\n",
       "    }\n",
       "\n",
       "    .dataframe thead th {\n",
       "        text-align: right;\n",
       "    }\n",
       "</style>\n",
       "<table border=\"1\" class=\"dataframe\">\n",
       "  <thead>\n",
       "    <tr style=\"text-align: right;\">\n",
       "      <th></th>\n",
       "      <th>Category ID</th>\n",
       "      <th>Category Label</th>\n",
       "    </tr>\n",
       "  </thead>\n",
       "  <tbody>\n",
       "    <tr>\n",
       "      <th>0</th>\n",
       "      <td>10000</td>\n",
       "      <td>Arts and Entertainment</td>\n",
       "    </tr>\n",
       "    <tr>\n",
       "      <th>1</th>\n",
       "      <td>11000</td>\n",
       "      <td>Business and Professional Services</td>\n",
       "    </tr>\n",
       "    <tr>\n",
       "      <th>2</th>\n",
       "      <td>12000</td>\n",
       "      <td>Community and Government</td>\n",
       "    </tr>\n",
       "    <tr>\n",
       "      <th>3</th>\n",
       "      <td>13000</td>\n",
       "      <td>Dining and Drinking</td>\n",
       "    </tr>\n",
       "    <tr>\n",
       "      <th>4</th>\n",
       "      <td>14000</td>\n",
       "      <td>Event</td>\n",
       "    </tr>\n",
       "    <tr>\n",
       "      <th>5</th>\n",
       "      <td>15000</td>\n",
       "      <td>Health and Medicine</td>\n",
       "    </tr>\n",
       "    <tr>\n",
       "      <th>6</th>\n",
       "      <td>16000</td>\n",
       "      <td>Landmarks and Outdoors</td>\n",
       "    </tr>\n",
       "    <tr>\n",
       "      <th>7</th>\n",
       "      <td>17000</td>\n",
       "      <td>Retail</td>\n",
       "    </tr>\n",
       "    <tr>\n",
       "      <th>8</th>\n",
       "      <td>18000</td>\n",
       "      <td>Sports and Recreation</td>\n",
       "    </tr>\n",
       "    <tr>\n",
       "      <th>9</th>\n",
       "      <td>19000</td>\n",
       "      <td>Travel and Transportation</td>\n",
       "    </tr>\n",
       "  </tbody>\n",
       "</table>\n",
       "</div>"
      ],
      "text/plain": [
       "   Category ID                      Category Label\n",
       "0        10000              Arts and Entertainment\n",
       "1        11000  Business and Professional Services\n",
       "2        12000            Community and Government\n",
       "3        13000                 Dining and Drinking\n",
       "4        14000                               Event\n",
       "5        15000                 Health and Medicine\n",
       "6        16000              Landmarks and Outdoors\n",
       "7        17000                              Retail\n",
       "8        18000               Sports and Recreation\n",
       "9        19000           Travel and Transportation"
      ]
     },
     "execution_count": 21,
     "metadata": {},
     "output_type": "execute_result"
    }
   ],
   "source": [
    "df_cat = pd.read_csv('categories.csv')\n",
    "df_cat"
   ]
  },
  {
   "cell_type": "code",
   "execution_count": 22,
   "id": "e3575ae0",
   "metadata": {},
   "outputs": [
    {
     "data": {
      "text/html": [
       "<div>\n",
       "<style scoped>\n",
       "    .dataframe tbody tr th:only-of-type {\n",
       "        vertical-align: middle;\n",
       "    }\n",
       "\n",
       "    .dataframe tbody tr th {\n",
       "        vertical-align: top;\n",
       "    }\n",
       "\n",
       "    .dataframe thead th {\n",
       "        text-align: right;\n",
       "    }\n",
       "</style>\n",
       "<table border=\"1\" class=\"dataframe\">\n",
       "  <thead>\n",
       "    <tr style=\"text-align: right;\">\n",
       "      <th></th>\n",
       "      <th>Category ID</th>\n",
       "      <th>Category Label</th>\n",
       "    </tr>\n",
       "  </thead>\n",
       "  <tbody>\n",
       "    <tr>\n",
       "      <th>0</th>\n",
       "      <td>10</td>\n",
       "      <td>Arts and Entertainment</td>\n",
       "    </tr>\n",
       "    <tr>\n",
       "      <th>1</th>\n",
       "      <td>11</td>\n",
       "      <td>Business and Professional Services</td>\n",
       "    </tr>\n",
       "    <tr>\n",
       "      <th>2</th>\n",
       "      <td>12</td>\n",
       "      <td>Community and Government</td>\n",
       "    </tr>\n",
       "    <tr>\n",
       "      <th>3</th>\n",
       "      <td>13</td>\n",
       "      <td>Dining and Drinking</td>\n",
       "    </tr>\n",
       "    <tr>\n",
       "      <th>4</th>\n",
       "      <td>14</td>\n",
       "      <td>Event</td>\n",
       "    </tr>\n",
       "  </tbody>\n",
       "</table>\n",
       "</div>"
      ],
      "text/plain": [
       "   Category ID                      Category Label\n",
       "0           10              Arts and Entertainment\n",
       "1           11  Business and Professional Services\n",
       "2           12            Community and Government\n",
       "3           13                 Dining and Drinking\n",
       "4           14                               Event"
      ]
     },
     "execution_count": 22,
     "metadata": {},
     "output_type": "execute_result"
    }
   ],
   "source": [
    "# I'll use the floor division to get the first 2 digits of the category number:\n",
    "\n",
    "df_cat['Category ID'] = df_cat['Category ID'] // 1000\n",
    "df_cat.head()"
   ]
  },
  {
   "cell_type": "code",
   "execution_count": 23,
   "id": "16137ac5",
   "metadata": {},
   "outputs": [
    {
     "data": {
      "text/html": [
       "<div>\n",
       "<style scoped>\n",
       "    .dataframe tbody tr th:only-of-type {\n",
       "        vertical-align: middle;\n",
       "    }\n",
       "\n",
       "    .dataframe tbody tr th {\n",
       "        vertical-align: top;\n",
       "    }\n",
       "\n",
       "    .dataframe thead th {\n",
       "        text-align: right;\n",
       "    }\n",
       "</style>\n",
       "<table border=\"1\" class=\"dataframe\">\n",
       "  <thead>\n",
       "    <tr style=\"text-align: right;\">\n",
       "      <th></th>\n",
       "      <th>bikes_id</th>\n",
       "      <th>category_ids</th>\n",
       "    </tr>\n",
       "  </thead>\n",
       "  <tbody>\n",
       "    <tr>\n",
       "      <th>0</th>\n",
       "      <td>0</td>\n",
       "      <td>13</td>\n",
       "    </tr>\n",
       "    <tr>\n",
       "      <th>1</th>\n",
       "      <td>0</td>\n",
       "      <td>13</td>\n",
       "    </tr>\n",
       "    <tr>\n",
       "      <th>2</th>\n",
       "      <td>0</td>\n",
       "      <td>13</td>\n",
       "    </tr>\n",
       "    <tr>\n",
       "      <th>3</th>\n",
       "      <td>0</td>\n",
       "      <td>17</td>\n",
       "    </tr>\n",
       "    <tr>\n",
       "      <th>4</th>\n",
       "      <td>0</td>\n",
       "      <td>17</td>\n",
       "    </tr>\n",
       "    <tr>\n",
       "      <th>...</th>\n",
       "      <td>...</td>\n",
       "      <td>...</td>\n",
       "    </tr>\n",
       "    <tr>\n",
       "      <th>41027</th>\n",
       "      <td>243</td>\n",
       "      <td>13</td>\n",
       "    </tr>\n",
       "    <tr>\n",
       "      <th>41028</th>\n",
       "      <td>243</td>\n",
       "      <td>17</td>\n",
       "    </tr>\n",
       "    <tr>\n",
       "      <th>41029</th>\n",
       "      <td>243</td>\n",
       "      <td>13</td>\n",
       "    </tr>\n",
       "    <tr>\n",
       "      <th>41030</th>\n",
       "      <td>243</td>\n",
       "      <td>13</td>\n",
       "    </tr>\n",
       "    <tr>\n",
       "      <th>41031</th>\n",
       "      <td>243</td>\n",
       "      <td>13</td>\n",
       "    </tr>\n",
       "  </tbody>\n",
       "</table>\n",
       "<p>41032 rows × 2 columns</p>\n",
       "</div>"
      ],
      "text/plain": [
       "       bikes_id  category_ids\n",
       "0             0            13\n",
       "1             0            13\n",
       "2             0            13\n",
       "3             0            17\n",
       "4             0            17\n",
       "...         ...           ...\n",
       "41027       243            13\n",
       "41028       243            17\n",
       "41029       243            13\n",
       "41030       243            13\n",
       "41031       243            13\n",
       "\n",
       "[41032 rows x 2 columns]"
      ]
     },
     "execution_count": 23,
     "metadata": {},
     "output_type": "execute_result"
    }
   ],
   "source": [
    "# Same here but for the other dataset:\n",
    "\n",
    "df_4s['category_ids'] = df_4s['category_ids'] // 1000\n",
    "df_4s"
   ]
  },
  {
   "cell_type": "code",
   "execution_count": 24,
   "id": "f5097053",
   "metadata": {},
   "outputs": [
    {
     "name": "stdout",
     "output_type": "stream",
     "text": [
      "(41032, 2)\n"
     ]
    },
    {
     "data": {
      "text/plain": [
       "Category Label\n",
       "Dining and Drinking                   31686\n",
       "Retail                                 4240\n",
       "Landmarks and Outdoors                 2230\n",
       "Arts and Entertainment                 1590\n",
       "Business and Professional Services      420\n",
       "Community and Government                360\n",
       "Sports and Recreation                   230\n",
       "Health and Medicine                     180\n",
       "Travel and Transportation                96\n",
       "Name: count, dtype: int64"
      ]
     },
     "execution_count": 24,
     "metadata": {},
     "output_type": "execute_result"
    }
   ],
   "source": [
    "# Combine them:\n",
    "\n",
    "df_4s_categorized = pd.merge(df_4s, df_cat, left_on = 'category_ids', right_on = 'Category ID', how='inner')\n",
    "\n",
    "df_4s_categorized.drop(['category_ids','Category ID'], axis=1, inplace=True)\n",
    "\n",
    "# Make sure the total amount the rows stay the same after the merge: 41032\n",
    "\n",
    "print(df_4s_categorized.shape)\n",
    "\n",
    "df_4s_categorized['Category Label'].value_counts()"
   ]
  },
  {
   "cell_type": "code",
   "execution_count": 25,
   "id": "4b7b56d2",
   "metadata": {},
   "outputs": [
    {
     "data": {
      "text/html": [
       "<div>\n",
       "<style scoped>\n",
       "    .dataframe tbody tr th:only-of-type {\n",
       "        vertical-align: middle;\n",
       "    }\n",
       "\n",
       "    .dataframe tbody tr th {\n",
       "        vertical-align: top;\n",
       "    }\n",
       "\n",
       "    .dataframe thead th {\n",
       "        text-align: right;\n",
       "    }\n",
       "</style>\n",
       "<table border=\"1\" class=\"dataframe\">\n",
       "  <thead>\n",
       "    <tr style=\"text-align: right;\">\n",
       "      <th></th>\n",
       "      <th>bikes_id</th>\n",
       "      <th>Category Label</th>\n",
       "    </tr>\n",
       "  </thead>\n",
       "  <tbody>\n",
       "    <tr>\n",
       "      <th>0</th>\n",
       "      <td>0</td>\n",
       "      <td>Dining and Drinking</td>\n",
       "    </tr>\n",
       "    <tr>\n",
       "      <th>1</th>\n",
       "      <td>0</td>\n",
       "      <td>Dining and Drinking</td>\n",
       "    </tr>\n",
       "    <tr>\n",
       "      <th>2</th>\n",
       "      <td>0</td>\n",
       "      <td>Dining and Drinking</td>\n",
       "    </tr>\n",
       "    <tr>\n",
       "      <th>3</th>\n",
       "      <td>0</td>\n",
       "      <td>Dining and Drinking</td>\n",
       "    </tr>\n",
       "    <tr>\n",
       "      <th>4</th>\n",
       "      <td>0</td>\n",
       "      <td>Dining and Drinking</td>\n",
       "    </tr>\n",
       "    <tr>\n",
       "      <th>...</th>\n",
       "      <td>...</td>\n",
       "      <td>...</td>\n",
       "    </tr>\n",
       "    <tr>\n",
       "      <th>41027</th>\n",
       "      <td>219</td>\n",
       "      <td>Sports and Recreation</td>\n",
       "    </tr>\n",
       "    <tr>\n",
       "      <th>41028</th>\n",
       "      <td>219</td>\n",
       "      <td>Sports and Recreation</td>\n",
       "    </tr>\n",
       "    <tr>\n",
       "      <th>41029</th>\n",
       "      <td>219</td>\n",
       "      <td>Sports and Recreation</td>\n",
       "    </tr>\n",
       "    <tr>\n",
       "      <th>41030</th>\n",
       "      <td>219</td>\n",
       "      <td>Sports and Recreation</td>\n",
       "    </tr>\n",
       "    <tr>\n",
       "      <th>41031</th>\n",
       "      <td>219</td>\n",
       "      <td>Sports and Recreation</td>\n",
       "    </tr>\n",
       "  </tbody>\n",
       "</table>\n",
       "<p>41032 rows × 2 columns</p>\n",
       "</div>"
      ],
      "text/plain": [
       "       bikes_id         Category Label\n",
       "0             0    Dining and Drinking\n",
       "1             0    Dining and Drinking\n",
       "2             0    Dining and Drinking\n",
       "3             0    Dining and Drinking\n",
       "4             0    Dining and Drinking\n",
       "...         ...                    ...\n",
       "41027       219  Sports and Recreation\n",
       "41028       219  Sports and Recreation\n",
       "41029       219  Sports and Recreation\n",
       "41030       219  Sports and Recreation\n",
       "41031       219  Sports and Recreation\n",
       "\n",
       "[41032 rows x 2 columns]"
      ]
     },
     "execution_count": 25,
     "metadata": {},
     "output_type": "execute_result"
    }
   ],
   "source": [
    "# Amount of rows is correct:\n",
    "\n",
    "df_4s_categorized"
   ]
  },
  {
   "cell_type": "markdown",
   "id": "2647a2b5",
   "metadata": {},
   "source": [
    "# ---------------------------------------------------------------------------------------------------------------"
   ]
  },
  {
   "cell_type": "markdown",
   "id": "71fd6468",
   "metadata": {},
   "source": [
    "# Data Joining"
   ]
  },
  {
   "cell_type": "markdown",
   "id": "519b4e16",
   "metadata": {},
   "source": [
    "### SQLite3"
   ]
  },
  {
   "cell_type": "code",
   "execution_count": 26,
   "id": "38fa908c",
   "metadata": {},
   "outputs": [],
   "source": [
    "# This will be my database name:\n",
    "\n",
    "db = 'bikes_database.db'\n",
    "\n",
    "\n",
    "# Create the connection with  SQLite:\n",
    "\n",
    "connection = sqlite3.connect(db)"
   ]
  },
  {
   "cell_type": "code",
   "execution_count": 27,
   "id": "8f85227e",
   "metadata": {},
   "outputs": [],
   "source": [
    "# Using the 'to_sql' method, I will add the 3 dataframes I created to SQL as 3 separated tables:\n",
    "# In case it exists, I will replace it:\n",
    "\n",
    "df_bikes.to_sql('bikes', connection, index=False, if_exists='replace')\n",
    "df_yelp.to_sql('yelp', connection, index=False, if_exists='replace')\n",
    "df_4s_categorized.to_sql('four_square', connection, index=False, if_exists='replace')\n",
    "\n",
    "connection.close()"
   ]
  },
  {
   "cell_type": "markdown",
   "id": "374acee4",
   "metadata": {},
   "source": [
    "### Some insights:"
   ]
  },
  {
   "cell_type": "code",
   "execution_count": 65,
   "id": "69439920",
   "metadata": {
    "scrolled": true
   },
   "outputs": [
    {
     "data": {
      "text/plain": [
       "2239"
      ]
     },
     "execution_count": 65,
     "metadata": {},
     "output_type": "execute_result"
    }
   ],
   "source": [
    "# Total Bikes:\n",
    "\n",
    "df_total = df_bikes['free_bikes'].value_counts().reset_index(name='count')\n",
    "df_total['total'] = df_total['free_bikes'] * df_total['count']\n",
    "df_total['total'].sum()"
   ]
  },
  {
   "cell_type": "code",
   "execution_count": 61,
   "id": "5e812935",
   "metadata": {},
   "outputs": [
    {
     "data": {
      "text/plain": [
       "9.176229508196721"
      ]
     },
     "execution_count": 61,
     "metadata": {},
     "output_type": "execute_result"
    }
   ],
   "source": [
    "# Average available bikes per station:\n",
    "\n",
    "df_bikes['free_bikes'].sum()/len(df_bikes)"
   ]
  },
  {
   "cell_type": "markdown",
   "id": "61afe1b5",
   "metadata": {},
   "source": [
    "### Combining dataframes:"
   ]
  },
  {
   "cell_type": "code",
   "execution_count": 28,
   "id": "e9cbb854",
   "metadata": {
    "scrolled": false
   },
   "outputs": [
    {
     "data": {
      "text/html": [
       "<div>\n",
       "<style scoped>\n",
       "    .dataframe tbody tr th:only-of-type {\n",
       "        vertical-align: middle;\n",
       "    }\n",
       "\n",
       "    .dataframe tbody tr th {\n",
       "        vertical-align: top;\n",
       "    }\n",
       "\n",
       "    .dataframe thead th {\n",
       "        text-align: right;\n",
       "    }\n",
       "</style>\n",
       "<table border=\"1\" class=\"dataframe\">\n",
       "  <thead>\n",
       "    <tr style=\"text-align: right;\">\n",
       "      <th></th>\n",
       "      <th>id</th>\n",
       "      <th>free_bikes</th>\n",
       "      <th>review_count</th>\n",
       "      <th>rating</th>\n",
       "      <th>distance</th>\n",
       "      <th>price_numeric</th>\n",
       "    </tr>\n",
       "  </thead>\n",
       "  <tbody>\n",
       "    <tr>\n",
       "      <th>0</th>\n",
       "      <td>0</td>\n",
       "      <td>12</td>\n",
       "      <td>685</td>\n",
       "      <td>4.0</td>\n",
       "      <td>169.517456</td>\n",
       "      <td>2</td>\n",
       "    </tr>\n",
       "    <tr>\n",
       "      <th>1</th>\n",
       "      <td>0</td>\n",
       "      <td>12</td>\n",
       "      <td>234</td>\n",
       "      <td>4.5</td>\n",
       "      <td>178.845344</td>\n",
       "      <td>2</td>\n",
       "    </tr>\n",
       "    <tr>\n",
       "      <th>2</th>\n",
       "      <td>0</td>\n",
       "      <td>12</td>\n",
       "      <td>289</td>\n",
       "      <td>4.0</td>\n",
       "      <td>102.329817</td>\n",
       "      <td>2</td>\n",
       "    </tr>\n",
       "    <tr>\n",
       "      <th>3</th>\n",
       "      <td>0</td>\n",
       "      <td>12</td>\n",
       "      <td>117</td>\n",
       "      <td>4.5</td>\n",
       "      <td>152.157897</td>\n",
       "      <td>3</td>\n",
       "    </tr>\n",
       "    <tr>\n",
       "      <th>4</th>\n",
       "      <td>0</td>\n",
       "      <td>12</td>\n",
       "      <td>226</td>\n",
       "      <td>4.0</td>\n",
       "      <td>191.044234</td>\n",
       "      <td>2</td>\n",
       "    </tr>\n",
       "    <tr>\n",
       "      <th>...</th>\n",
       "      <td>...</td>\n",
       "      <td>...</td>\n",
       "      <td>...</td>\n",
       "      <td>...</td>\n",
       "      <td>...</td>\n",
       "      <td>...</td>\n",
       "    </tr>\n",
       "    <tr>\n",
       "      <th>78006</th>\n",
       "      <td>243</td>\n",
       "      <td>9</td>\n",
       "      <td>397</td>\n",
       "      <td>4.0</td>\n",
       "      <td>569.394966</td>\n",
       "      <td>2</td>\n",
       "    </tr>\n",
       "    <tr>\n",
       "      <th>78007</th>\n",
       "      <td>243</td>\n",
       "      <td>9</td>\n",
       "      <td>177</td>\n",
       "      <td>4.0</td>\n",
       "      <td>744.999190</td>\n",
       "      <td>2</td>\n",
       "    </tr>\n",
       "    <tr>\n",
       "      <th>78008</th>\n",
       "      <td>243</td>\n",
       "      <td>9</td>\n",
       "      <td>50</td>\n",
       "      <td>4.5</td>\n",
       "      <td>842.112588</td>\n",
       "      <td>1</td>\n",
       "    </tr>\n",
       "    <tr>\n",
       "      <th>78009</th>\n",
       "      <td>243</td>\n",
       "      <td>9</td>\n",
       "      <td>61</td>\n",
       "      <td>4.0</td>\n",
       "      <td>381.561636</td>\n",
       "      <td>2</td>\n",
       "    </tr>\n",
       "    <tr>\n",
       "      <th>78010</th>\n",
       "      <td>243</td>\n",
       "      <td>9</td>\n",
       "      <td>259</td>\n",
       "      <td>3.5</td>\n",
       "      <td>456.914922</td>\n",
       "      <td>2</td>\n",
       "    </tr>\n",
       "  </tbody>\n",
       "</table>\n",
       "<p>78011 rows × 6 columns</p>\n",
       "</div>"
      ],
      "text/plain": [
       "        id  free_bikes  review_count  rating    distance  price_numeric\n",
       "0        0          12           685     4.0  169.517456              2\n",
       "1        0          12           234     4.5  178.845344              2\n",
       "2        0          12           289     4.0  102.329817              2\n",
       "3        0          12           117     4.5  152.157897              3\n",
       "4        0          12           226     4.0  191.044234              2\n",
       "...    ...         ...           ...     ...         ...            ...\n",
       "78006  243           9           397     4.0  569.394966              2\n",
       "78007  243           9           177     4.0  744.999190              2\n",
       "78008  243           9            50     4.5  842.112588              1\n",
       "78009  243           9            61     4.0  381.561636              2\n",
       "78010  243           9           259     3.5  456.914922              2\n",
       "\n",
       "[78011 rows x 6 columns]"
      ]
     },
     "execution_count": 28,
     "metadata": {},
     "output_type": "execute_result"
    }
   ],
   "source": [
    "df_bikes_yelp = pd.merge(df_bikes, df_yelp, left_on='id', right_on='bikes_id', how='inner')\n",
    "df_bikes_yelp.drop(['index','bikes_id'], axis=1,inplace=True)\n",
    "df_bikes_yelp.to_csv('bikes_yelp.csv')\n",
    "df_bikes_yelp"
   ]
  },
  {
   "cell_type": "markdown",
   "id": "e1e75efa",
   "metadata": {},
   "source": [
    "Amount of rows is consistant before and after the merge: 78011"
   ]
  }
 ],
 "metadata": {
  "kernelspec": {
   "display_name": "Python 3 (ipykernel)",
   "language": "python",
   "name": "python3"
  },
  "language_info": {
   "codemirror_mode": {
    "name": "ipython",
    "version": 3
   },
   "file_extension": ".py",
   "mimetype": "text/x-python",
   "name": "python",
   "nbconvert_exporter": "python",
   "pygments_lexer": "ipython3",
   "version": "3.9.18"
  }
 },
 "nbformat": 4,
 "nbformat_minor": 5
}
